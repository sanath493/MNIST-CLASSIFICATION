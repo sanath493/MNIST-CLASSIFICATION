{
  "nbformat": 4,
  "nbformat_minor": 0,
  "metadata": {
    "colab": {
      "name": "Assignment-4 Q1.ipynb",
      "provenance": [],
      "collapsed_sections": []
    },
    "kernelspec": {
      "name": "python3",
      "display_name": "Python 3"
    },
    "accelerator": "GPU"
  },
  "cells": [
    {
      "cell_type": "code",
      "metadata": {
        "id": "JTtwff1b8GvF",
        "colab_type": "code",
        "colab": {}
      },
      "source": [
        "import tensorflow as tf\n",
        "import numpy as np\n",
        "import matplotlib.pyplot as plt\n",
        "import glob\n",
        "from google.colab import drive\n",
        "import pickle\n",
        "import librosa\n",
        "from itertools import combinations \n",
        "import keras"
      ],
      "execution_count": 0,
      "outputs": []
    },
    {
      "cell_type": "code",
      "metadata": {
        "id": "QdMYrhF88bjR",
        "colab_type": "code",
        "colab": {
          "base_uri": "https://localhost:8080/",
          "height": 34
        },
        "outputId": "5040f81e-3b4a-48ca-8110-a6906d0c6a47"
      },
      "source": [
        "from google.colab import drive\n",
        "drive.mount('/content/drive')"
      ],
      "execution_count": 25,
      "outputs": [
        {
          "output_type": "stream",
          "text": [
            "Drive already mounted at /content/drive; to attempt to forcibly remount, call drive.mount(\"/content/drive\", force_remount=True).\n"
          ],
          "name": "stdout"
        }
      ]
    },
    {
      "cell_type": "code",
      "metadata": {
        "id": "l9g92E0P8eKZ",
        "colab_type": "code",
        "colab": {}
      },
      "source": [
        "f = open('/content/drive/My Drive/assignment4/hw4_trs.pkl','rb') \n",
        "train = pickle.load(f)\n",
        "f = open('/content/drive/My Drive/assignment4/hw4_tes.pkl','rb') \n",
        "test = pickle.load(f)"
      ],
      "execution_count": 0,
      "outputs": []
    },
    {
      "cell_type": "markdown",
      "metadata": {
        "id": "F6h4SgnPT39I",
        "colab_type": "text"
      },
      "source": [
        "Defining Parameters"
      ]
    },
    {
      "cell_type": "code",
      "metadata": {
        "id": "xdt_ahR5Agv_",
        "colab_type": "code",
        "colab": {}
      },
      "source": [
        "classes = 512\n",
        "hiddenunits = 512\n",
        "batchsize = 90\n",
        "epochs = 100\n",
        "keep_prob = 0.9\n",
        "learning_rate = 0.0001\n",
        "dropout = 0.1"
      ],
      "execution_count": 0,
      "outputs": []
    },
    {
      "cell_type": "markdown",
      "metadata": {
        "id": "ofXqVnGGUlNa",
        "colab_type": "text"
      },
      "source": [
        "Creating the dataset from read data"
      ]
    },
    {
      "cell_type": "code",
      "metadata": {
        "id": "us9-lHJsQpSZ",
        "colab_type": "code",
        "colab": {}
      },
      "source": [
        "train1 = [np.abs(librosa.stft(s, n_fft=1024, hop_length=512)).T for s in train]\n",
        "test1 = [np.abs(librosa.stft(s, n_fft=1024, hop_length=512)).T for s in test]"
      ],
      "execution_count": 0,
      "outputs": []
    },
    {
      "cell_type": "code",
      "metadata": {
        "id": "gqp0Pmqb8w7e",
        "colab_type": "code",
        "colab": {}
      },
      "source": [
        "def datagen(data):\n",
        "  sp_no = int(len(data)/10)\n",
        "  out1 = []\n",
        "  out2 = []\n",
        "  y  = []  \n",
        "  for i in range(1,sp_no+1):\n",
        "    curr = data[i*10 - 10:i*10]\n",
        "    rest = np.delete(data,range(i*10 - 10,i*10),axis=0)\n",
        "    p = list(combinations(range(10), 2))\n",
        "    out1 = out1 +  [curr[i[0]] for i in p]\n",
        "    out2 = out2 + [curr[i[1]] for i in p]\n",
        "    y  = y + [1]*len(p)\n",
        "    l = list(zip(np.random.randint(10,size=45),np.random.randint(len(data)-10,size=45)))\n",
        "    out1 = out1 +  [curr[i[0]] for i in l]\n",
        "    out2 = out2 + [rest[i[1]] for i in l]\n",
        "    y  = y + [0]*len(l)\n",
        "  s = np.arange(np.array(out1).shape[0])\n",
        "  np.random.shuffle(s)\n",
        "  return np.array(out1)[s],np.array(out2)[s],np.array(y)[s]"
      ],
      "execution_count": 0,
      "outputs": []
    },
    {
      "cell_type": "markdown",
      "metadata": {
        "id": "OeAfF8_uU4Ph",
        "colab_type": "text"
      },
      "source": [
        "Dataset generation"
      ]
    },
    {
      "cell_type": "code",
      "metadata": {
        "id": "gPaopB56AM_E",
        "colab_type": "code",
        "colab": {}
      },
      "source": [
        "train_1,train_2,train_y = datagen(train1)\n",
        "test_1,test_2,test_y = datagen(test1)"
      ],
      "execution_count": 0,
      "outputs": []
    },
    {
      "cell_type": "code",
      "metadata": {
        "id": "x0r1iDPXM4r1",
        "colab_type": "code",
        "colab": {}
      },
      "source": [
        "trainl=[]\n",
        "for i in train_1:\n",
        "  trainl.append(i.shape[0])"
      ],
      "execution_count": 0,
      "outputs": []
    },
    {
      "cell_type": "code",
      "metadata": {
        "id": "rnzSnPqTO9Sd",
        "colab_type": "code",
        "colab": {}
      },
      "source": [
        "testl=[]\n",
        "for i in test_1:\n",
        "  testl.append(i.shape[0])"
      ],
      "execution_count": 0,
      "outputs": []
    },
    {
      "cell_type": "code",
      "metadata": {
        "id": "loQZHh6rAq6C",
        "colab_type": "code",
        "colab": {}
      },
      "source": [
        "iterations = int(len(train_1)/batchsize)"
      ],
      "execution_count": 0,
      "outputs": []
    },
    {
      "cell_type": "markdown",
      "metadata": {
        "id": "MB41xXE0Uu-P",
        "colab_type": "text"
      },
      "source": [
        "Batch generation"
      ]
    },
    {
      "cell_type": "code",
      "metadata": {
        "id": "23_bf-ucAUa7",
        "colab_type": "code",
        "colab": {}
      },
      "source": [
        "def batchgen(t1,t2,seq_len,st,batch_size,y):\n",
        "     return t1[st:st + batch_size],t2[st:st + batch_size],seq_len[st:st + batch_size],y[st:st + batch_size]"
      ],
      "execution_count": 0,
      "outputs": []
    },
    {
      "cell_type": "markdown",
      "metadata": {
        "id": "SeBMLKTETWFG",
        "colab_type": "text"
      },
      "source": [
        "Defining LSTM CELL"
      ]
    },
    {
      "cell_type": "code",
      "metadata": {
        "id": "INLleqMUApLI",
        "colab_type": "code",
        "colab": {}
      },
      "source": [
        "def lstmcell():\n",
        "    lstm =tf.nn.rnn_cell.DropoutWrapper(tf.nn.rnn_cell.GRUCell(hiddenunits,kernel_initializer =tf.keras.initializers.glorot_normal()),output_keep_prob = 1 - dropout)\n",
        "    return lstm"
      ],
      "execution_count": 0,
      "outputs": []
    },
    {
      "cell_type": "markdown",
      "metadata": {
        "id": "D5KOnI63TbrW",
        "colab_type": "text"
      },
      "source": [
        "Setting up Graph"
      ]
    },
    {
      "cell_type": "code",
      "metadata": {
        "id": "DfBb0nyvOz__",
        "colab_type": "code",
        "colab": {}
      },
      "source": [
        "tf.reset_default_graph()\n",
        "X1 = tf.placeholder(tf.float32,[None,None,513])\n",
        "X2 = tf.placeholder(tf.float32,[None,None,513])\n",
        "Y = tf.placeholder(tf.float32,[None,1])\n",
        "traindec=tf.placeholder(tf.bool)\n",
        "seq_len = tf.placeholder(tf.int32,None)"
      ],
      "execution_count": 0,
      "outputs": []
    },
    {
      "cell_type": "markdown",
      "metadata": {
        "id": "xJB8471EVZE6",
        "colab_type": "text"
      },
      "source": [
        "Defining model"
      ]
    },
    {
      "cell_type": "code",
      "metadata": {
        "id": "byBILHxVQYiU",
        "colab_type": "code",
        "colab": {}
      },
      "source": [
        "def siamese_model(inp,traindec):\n",
        "    with tf.name_scope(\"Model\"):\n",
        "        with tf.variable_scope(\"rnn\",reuse = tf.AUTO_REUSE ) as scope:\n",
        "              cell = tf.contrib.rnn.MultiRNNCell([lstmcell() for _ in range(3)])\n",
        "              network, _  = tf.nn.dynamic_rnn(cell, inp, dtype=tf.float32,sequence_length=seq_len)\n",
        "        with tf.variable_scope(\"dense\",reuse = tf.AUTO_REUSE ) as scope: \n",
        "              network = tf.layers.batch_normalization(inputs=network,axis=-1,momentum=0.8,epsilon=0.0001,reuse= False,training = traindec)\n",
        "              network = tf.layers.dense(network, classes, kernel_initializer=tf.keras.initializers.glorot_normal(),activation=tf.nn.tanh)\n",
        "              network = tf.layers.flatten(network)\n",
        "        return network"
      ],
      "execution_count": 0,
      "outputs": []
    },
    {
      "cell_type": "code",
      "metadata": {
        "id": "WHOnlskgQbZ3",
        "colab_type": "code",
        "colab": {}
      },
      "source": [
        "op1 =  tf.nn.l2_normalize(siamese_model(X1,traindec),0)\n",
        "op2 =  tf.nn.l2_normalize(siamese_model(X2,traindec),0)\n",
        "final_layer =tf.sigmoid(tf.reduce_sum(tf.multiply( op1, op2 ),1, keep_dims=True))"
      ],
      "execution_count": 0,
      "outputs": []
    },
    {
      "cell_type": "code",
      "metadata": {
        "id": "10U17yTbQdzM",
        "colab_type": "code",
        "colab": {}
      },
      "source": [
        "loss = tf.reduce_mean(tf.nn.sigmoid_cross_entropy_with_logits(labels=Y, logits=final_layer))\n",
        "train_optimizer = tf.train.AdamOptimizer(learning_rate=learning_rate).minimize(loss)\n",
        "accuracy = tf.reduce_mean(tf.cast(tf.equal(tf.round(final_layer),Y),tf.float32))"
      ],
      "execution_count": 0,
      "outputs": []
    },
    {
      "cell_type": "markdown",
      "metadata": {
        "id": "UPpWfHt7Tgn6",
        "colab_type": "text"
      },
      "source": [
        "Training and Testing the model"
      ]
    },
    {
      "cell_type": "code",
      "metadata": {
        "id": "NCSjJpRo879y",
        "colab_type": "code",
        "colab": {
          "base_uri": "https://localhost:8080/",
          "height": 185
        },
        "outputId": "efca9b5e-4e39-4550-ef06-1a026a2d8ed4"
      },
      "source": [
        "with tf.Session()  as sess:\n",
        "  cost = np.zeros(epochs)\n",
        "  tf.global_variables_initializer().run() \n",
        "  tf.local_variables_initializer().run()\n",
        "  update_ops = tf.get_collection(tf.GraphKeys.UPDATE_OPS)\n",
        "  for i in range(epochs):\n",
        "    for itr in range(iterations):\n",
        "      batch_1,batch_2,seq_len_batch,batch_y = batchgen(train_1,train_2,trainl,itr*batchsize,batchsize,train_y)\n",
        "      batch_y = batch_y.reshape([batchsize,1])\n",
        "      _,_,_,tr_loss = sess.run([train_optimizer,accuracy,update_ops,loss], feed_dict={X1:batch_1,X2:batch_2,Y:batch_y,seq_len:seq_len_batch,traindec:True})\n",
        "    cost[i],acc = sess.run([loss,accuracy],feed_dict={X1:test_1,X2:test_2,Y:test_y.reshape([len(test_y),1]),seq_len:testl,traindec:False})\n",
        "    if i%10 == 0:      \n",
        "      print(\"Loss for epoch\",str(i),\"=\", str(cost[i]), \"With Accuracy =\", str(acc)) "
      ],
      "execution_count": 47,
      "outputs": [
        {
          "output_type": "stream",
          "text": [
            "Loss for epoch 0 = 0.799278974533081 With Accuracy = 0.5\n",
            "Loss for epoch 10 = 0.7463143467903137 With Accuracy = 0.52444446\n",
            "Loss for epoch 20 = 0.7065346837043762 With Accuracy = 0.6338889\n",
            "Loss for epoch 30 = 0.7214862704277039 With Accuracy = 0.60444444\n",
            "Loss for epoch 40 = 0.6944419741630554 With Accuracy = 0.675\n",
            "Loss for epoch 50 = 0.7426771521568298 With Accuracy = 0.5644444\n",
            "Loss for epoch 60 = 0.6809706091880798 With Accuracy = 0.69222224\n",
            "Loss for epoch 70 = 0.6760926842689514 With Accuracy = 0.69777775\n",
            "Loss for epoch 80 = 0.6995741128921509 With Accuracy = 0.63666666\n",
            "Loss for epoch 90 = 0.668730616569519 With Accuracy = 0.7183333\n"
          ],
          "name": "stdout"
        }
      ]
    },
    {
      "cell_type": "markdown",
      "metadata": {
        "id": "8vtjLntFTpBi",
        "colab_type": "text"
      },
      "source": [
        "Accuracy the test set for 100 iterations is 72%\n",
        "\n"
      ]
    },
    {
      "cell_type": "code",
      "metadata": {
        "id": "abG9cE-qTy-d",
        "colab_type": "code",
        "colab": {}
      },
      "source": [
        ""
      ],
      "execution_count": 0,
      "outputs": []
    }
  ]
}